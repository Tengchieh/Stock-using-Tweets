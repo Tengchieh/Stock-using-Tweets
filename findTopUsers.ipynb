{
 "cells": [
  {
   "cell_type": "code",
   "execution_count": null,
   "metadata": {
    "collapsed": true
   },
   "outputs": [],
   "source": [
    "import csv\n",
    "\n",
    "path = os.path.join(\"Extra_Storage\", \"Archiveteam_Filtered\", \"2016\", \"4\")\n",
    "\n",
    "with open(os.path.join(path, \"id_list.txt\" )) as id_list:\n",
    "    reader = id_list.readlines()\n",
    "    idList = [x.strip() for x in reader]\n",
    "\n",
    "    \n",
    "for user_id in idList:\n",
    "    with open(os.path.join(path, \"User_ROI\", \"ROI_history_2016_04_\" + user_id + \".csv\" )) as roiHistory:\n",
    "        reader = csv.DictReader(roiHistory)\n",
    "        for row in reader:\n",
    "            #Do it later"
   ]
  }
 ],
 "metadata": {
  "kernelspec": {
   "display_name": "Python 3",
   "language": "python",
   "name": "python3"
  },
  "language_info": {
   "codemirror_mode": {
    "name": "ipython",
    "version": 3
   },
   "file_extension": ".py",
   "mimetype": "text/x-python",
   "name": "python",
   "nbconvert_exporter": "python",
   "pygments_lexer": "ipython3",
   "version": "3.6.0"
  }
 },
 "nbformat": 4,
 "nbformat_minor": 2
}
