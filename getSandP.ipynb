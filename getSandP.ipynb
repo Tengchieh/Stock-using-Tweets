{
 "cells": [
  {
   "cell_type": "code",
   "execution_count": 1,
   "metadata": {
    "collapsed": false
   },
   "source": [
    "from datetime import datetime\n",
    "from concurrent import futures\n",
    "\n",
    "import pandas as pd\n",
    "from pandas import DataFrame\n",
    "import pandas_datareader.data as web\n",
    "import csv\n",
    "\n",
    "def download_stock(stock):\n",
    "    \"\"\" try to query the iex for a stock, if failed note with print \"\"\"\n",
    "    try:\n",
    "        print(stock)\n",
    "        #stock_df = web.DataReader(stock,'iex', start_time, now_time)        \n",
    "        stock_df = web.DataReader('WIKI/' + stock,'quandl', '2011-09-27', '2013-03-04') #Try Quandl instead.\n",
    "        stock_df['Name'] = stock\n",
    "        output_name = stock + '_data.csv'\n",
    "        stock_df.to_csv(output_name)\n",
    "    except:\n",
    "        bad_names.append(stock)\n",
    "        print('bad: %s' % (stock))\n",
    "\n",
    "if __name__ == '__main__':\n",
    "\n",
    "    \"\"\" set the download window \"\"\"\n",
    "    now_time = datetime.now()\n",
    "    #start_time = datetime(now_time.year - 5, now_time.month , now_time.day)\n",
    "    start_time = datetime(2011,9,27)\n",
    "\n",
    "    \"\"\" list of s_anp_p companies \"\"\"\n",
    "    s_and_p = []\n",
    "    with open('SP500.csv') as SP500csv:\n",
    "        reader = csv.DictReader(SP500csv)\n",
    "        for row in reader:\n",
    "            s_and_p.append(row['Symbol'])\n",
    "        \n",
    "    bad_names =[] #to keep track of failed queries\n",
    "\n",
    "    \"\"\"here we use the concurrent.futures module's ThreadPoolExecutor\n",
    "        to speed up the downloads buy doing them in parallel \n",
    "        as opposed to sequentially \"\"\"\n",
    "\n",
    "    #set the maximum thread number\n",
    "    max_workers = 50\n",
    "\n",
    "    workers = min(max_workers, len(s_and_p)) #in case a smaller number of stocks than threads was passed in\n",
    "    with futures.ThreadPoolExecutor(workers) as executor:\n",
    "        res = executor.map(download_stock, s_and_p)\n",
    "\n",
    "\n",
    "    \"\"\" Save failed queries to a text file to retry \"\"\"\n",
    "    if len(bad_names) > 0:\n",
    "        with open('failed_queries.txt','w') as outfile:\n",
    "            for name in bad_names:\n",
    "                outfile.write(name+'\\n')\n",
    "\n",
    "    #timing:\n",
    "    finish_time = datetime.now()\n",
    "    duration = finish_time - now_time\n",
    "    minutes, seconds = divmod(duration.seconds, 60)\n",
    "    print('getSandP_threaded.py')\n",
    "    print(f'The threaded script took {minutes} minutes and {seconds} seconds to run.')\n",
    "    #The threaded script took 0 minutes and 31 seconds to run."
   ]
  },
  {
   "cell_type": "code",
   "execution_count": null,
   "metadata": {
    "collapsed": true
   },
   "outputs": [],
   "source": []
  }
 ],
 "metadata": {
  "kernelspec": {
   "display_name": "Python 3",
   "language": "python",
   "name": "python3"
  },
  "language_info": {
   "codemirror_mode": {
    "name": "ipython",
    "version": 3
   },
   "file_extension": ".py",
   "mimetype": "text/x-python",
   "name": "python",
   "nbconvert_exporter": "python",
   "pygments_lexer": "ipython3",
   "version": "3.6.0"
  }
 },
 "nbformat": 4,
 "nbformat_minor": 2
}
