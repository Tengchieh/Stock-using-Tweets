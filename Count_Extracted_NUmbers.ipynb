{
 "cells": [
  {
   "cell_type": "code",
   "execution_count": 60,
   "metadata": {},
   "outputs": [],
   "source": [
    "import sys\n",
    "import os\n",
    "import json\n",
    "import string\n",
    "import pprint\n",
    "import csv\n",
    "import re\n",
    "from datetime import datetime\n",
    "import math\n",
    "        \n",
    "def countAllNumbers(start_year, start_month, end_year, end_month):\n",
    "    company_list = []\n",
    "    id_list = []\n",
    "    stock_id_list = []\n",
    "    n_tweets = 0\n",
    "    n_stock_tweets = 0\n",
    "    with open('SP500.csv') as SP500csv:\n",
    "        reader = csv.DictReader(SP500csv)\n",
    "        for row in reader:\n",
    "            company_list.append(row['Symbol'])\n",
    "        \n",
    "    for year_int in range(int(start_year), int(end_year)+1):\n",
    "        if (year_int == int(end_year)):\n",
    "            last_month = int(end_month)            \n",
    "        else:\n",
    "            last_month = 12\n",
    "        if(year_int == int(start_year)):\n",
    "            first_month = int(start_month)\n",
    "        else:\n",
    "            first_month = 1\n",
    "        cur_year = str(year_int)\n",
    "        \n",
    "        for month_int in range(first_month, last_month+1):\n",
    "            if(month_int<10):\n",
    "                month = '0'+ str(month_int)\n",
    "            else:\n",
    "                month = str(month_int)\n",
    "                \n",
    "            path = os.path.join(\"Extra_Storage\", \"ArchiveteamTest\", cur_year, month)\n",
    "            for dirPath, dirNames, fileNames in os.walk(path):\n",
    "                for file in fileNames:\n",
    "                    if file.endswith(\"json\"):    \n",
    "                            filepath = os.path.join(dirPath, file)\n",
    "                            with open(filepath) as json_data:\n",
    "                                data=[]\n",
    "                                for line in json_data:\n",
    "                                    try:\n",
    "                                        data.append(json.loads(line))\n",
    "                                    except json.JSONDecodeError:\n",
    "                                        continue                            \n",
    "                                for tweet in data:\n",
    "                                    n_tweets += 1\n",
    "                                    if 'user' in tweet:\n",
    "                                        if tweet['user']['id'] not in id_list:\n",
    "                                            id_list.append(tweet['user']['id'])  \n",
    "\n",
    "                                    if 'text' in tweet:\n",
    "                                        tweet_lower = tweet['text'].lower()\n",
    "                                        for company in company_list:\n",
    "                                            company_tag = ' $' + company + ' '\n",
    "                                            if company_tag.lower() in tweet_lower:\n",
    "                                                n_stock_tweets += 1\n",
    "                                                if tweet['user']['id'] in stock_id_list:\n",
    "                                                    break\n",
    "                                                else:\n",
    "                                                    stock_id_list.append(tweet['user']['id'])\n",
    "    print (n_tweets)\n",
    "    print (n_stock_tweets)\n",
    "    print (len(id_list))\n",
    "    print (len(stock_id_list))"
   ]
  },
  {
   "cell_type": "code",
   "execution_count": 61,
   "metadata": {},
   "outputs": [
    {
     "name": "stdout",
     "output_type": "stream",
     "text": [
      "93337\n",
      "5054\n",
      "5600\n",
      "2533\n"
     ]
    }
   ],
   "source": [
    "countAllNumbers(2016,4,2016,4)"
   ]
  },
  {
   "cell_type": "code",
   "execution_count": 62,
   "metadata": {},
   "outputs": [
    {
     "name": "stdout",
     "output_type": "stream",
     "text": [
      "79553\n",
      "3489\n",
      "5008\n",
      "1591\n"
     ]
    }
   ],
   "source": [
    "countAllNumbers(2016,3,2016,3)"
   ]
  },
  {
   "cell_type": "code",
   "execution_count": 63,
   "metadata": {},
   "outputs": [
    {
     "name": "stdout",
     "output_type": "stream",
     "text": [
      "91206\n",
      "5033\n",
      "5207\n",
      "2002\n"
     ]
    }
   ],
   "source": [
    "countAllNumbers(2016,2,2016,2)"
   ]
  },
  {
   "cell_type": "code",
   "execution_count": 64,
   "metadata": {},
   "outputs": [
    {
     "name": "stdout",
     "output_type": "stream",
     "text": [
      "120577\n",
      "6747\n",
      "6003\n",
      "2722\n"
     ]
    }
   ],
   "source": [
    "countAllNumbers(2016,1,2016,1)"
   ]
  },
  {
   "cell_type": "code",
   "execution_count": 65,
   "metadata": {},
   "outputs": [
    {
     "name": "stdout",
     "output_type": "stream",
     "text": [
      "68311\n",
      "3810\n",
      "5061\n",
      "1651\n"
     ]
    }
   ],
   "source": [
    "countAllNumbers(2015,12,2015,12)"
   ]
  },
  {
   "cell_type": "code",
   "execution_count": 66,
   "metadata": {},
   "outputs": [
    {
     "name": "stdout",
     "output_type": "stream",
     "text": [
      "140360\n",
      "7175\n",
      "4921\n",
      "1792\n"
     ]
    }
   ],
   "source": [
    "countAllNumbers(2015,11,2015,11)"
   ]
  },
  {
   "cell_type": "code",
   "execution_count": 67,
   "metadata": {},
   "outputs": [
    {
     "name": "stdout",
     "output_type": "stream",
     "text": [
      "593344\n",
      "30578\n",
      "9324\n",
      "9324\n"
     ]
    }
   ],
   "source": [
    "countAllNumbers(2015,11,2016,4)"
   ]
  },
  {
   "cell_type": "code",
   "execution_count": 42,
   "metadata": {},
   "outputs": [
    {
     "name": "stdout",
     "output_type": "stream",
     "text": [
      "2502\n"
     ]
    }
   ],
   "source": [
    "search_path =  os.path.join(\"Extra_Storage\", \"Archiveteam_Filtered\", \"2016\", \"04\", 'id_list.txt')\n",
    "with open(search_path) as id_list:\n",
    "    reader = id_list.readlines()\n",
    "    idList = [x.strip() for x in reader]\n",
    "print(len(idList))"
   ]
  },
  {
   "cell_type": "code",
   "execution_count": null,
   "metadata": {},
   "outputs": [],
   "source": []
  }
 ],
 "metadata": {
  "kernelspec": {
   "display_name": "Python 3",
   "language": "python",
   "name": "python3"
  },
  "language_info": {
   "codemirror_mode": {
    "name": "ipython",
    "version": 3
   },
   "file_extension": ".py",
   "mimetype": "text/x-python",
   "name": "python",
   "nbconvert_exporter": "python",
   "pygments_lexer": "ipython3",
   "version": "3.6.0"
  }
 },
 "nbformat": 4,
 "nbformat_minor": 2
}
