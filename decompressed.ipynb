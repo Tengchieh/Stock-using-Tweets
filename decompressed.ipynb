{
 "cells": [
  {
   "cell_type": "code",
   "execution_count": 13,
   "metadata": {},
   "outputs": [],
   "source": [
    "import sys\n",
    "import bz2\n",
    "import os\n",
    "\n",
    "path = os.path.join(\"Extra_Storage\", \"Archiveteam\", \"archiveteam-twitter-stream-2015-11\")\n",
    "#def find_the_path(path):\n",
    "for dirPath, dirNames, fileNames in os.walk(path):\n",
    "    for file in fileNames:\n",
    "         if file.endswith(\".bz2\"):             \n",
    "                filepath = os.path.join(dirPath, file)\n",
    "                newfilepath = os.path.join(dirPath, file[:-4])\n",
    "                with open(newfilepath, 'wb') as new_file, bz2.BZ2File(filepath, 'rb') as file:\n",
    "                    for data in iter(lambda : file.read(100 * 1024), b''):\n",
    "                        new_file.write(data)\n",
    "        \n",
    "#for filename in files:\n",
    "#    filepath = os.path.join(dirpath, filename)\n",
    "#    newfilepath = os.path.join(dirpath, filename + '.decompressed')\n",
    "#    with open(newfilepath, 'wb') as new_file, bz2.BZ2File(filepath, 'rb') as file:\n",
    "#        for data in iter(lambda : file.read(100 * 1024), b''):\n",
    "#            new_file.write(data)\n"
   ]
  },
  {
   "cell_type": "code",
   "execution_count": 1,
   "metadata": {},
   "outputs": [],
   "source": [
    "import sys\n",
    "import bz2\n",
    "import os\n",
    "\n",
    "path = os.path.join(\"Extra_Storage\", \"Archiveteam\", \"archiveteam-twitter-stream-2016-05\")\n",
    "#def find_the_path(path):\n",
    "for dirPath, dirNames, fileNames in os.walk(path):\n",
    "    for file in fileNames:\n",
    "         if file.endswith(\".bz2\"):             \n",
    "                filepath = os.path.join(dirPath, file)\n",
    "                os.remove(filepath)\n",
    "                #newfilepath = os.path.join(dirPath, file[:-4])\n",
    "                #with open(newfilepath, 'wb') as new_file, bz2.BZ2File(filepath, 'rb') as file:\n",
    "                #    for data in iter(lambda : file.read(100 * 1024), b''):\n",
    "                #        new_file.write(data)"
   ]
  },
  {
   "cell_type": "code",
   "execution_count": null,
   "metadata": {
    "collapsed": true
   },
   "outputs": [],
   "source": []
  }
 ],
 "metadata": {
  "kernelspec": {
   "display_name": "Python 3",
   "language": "python",
   "name": "python3"
  },
  "language_info": {
   "codemirror_mode": {
    "name": "ipython",
    "version": 3
   },
   "file_extension": ".py",
   "mimetype": "text/x-python",
   "name": "python",
   "nbconvert_exporter": "python",
   "pygments_lexer": "ipython3",
   "version": "3.6.0"
  }
 },
 "nbformat": 4,
 "nbformat_minor": 2
}
