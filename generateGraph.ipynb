{
 "cells": [
  {
   "cell_type": "code",
   "execution_count": null,
   "metadata": {
    "collapsed": true
   },
   "outputs": [],
   "source": [
    "node_ids = []\n",
    "edge_data = []\n",
    "if tweet['is_quote_status']:\n",
    "    if not tweet['user']['id'] in node_ids:\n",
    "        node_ids.append(tweet['user']['id'])\n",
    "    if not tweet['quoted_status']['user']['id'] in node_ids:\n",
    "        node_ids.append(tweet['quoted_status']['user']['id'])\n",
    "    edge_data.append({'source':tweet['user']['id'], 'dest': tweet['quoted_status']['user']['id'], 'post_id': tweet['id']})\n",
    "if tweet['retweeted_status']:\n",
    "    if not tweet['user']['id'] in node_ids:\n",
    "        node_ids.append(tweet['user']['id'])\n",
    "    if not tweet['retweeted_status']['user']['id'] in node_ids:\n",
    "        node_ids.append(tweet['retweeted_status']['user']['id'])\n",
    "    edge_data.append({'source':tweet['user']['id'], 'dest': tweet['retweeted_status']['user']['id'], 'post_id': tweet['id']})\n",
    "\n",
    "\n",
    "    \n",
    "def generateDiGraph(node_ids, edge_data):\n",
    "    # Generate network graph\n",
    "    MG = nx.MultiDiGraph()\n",
    "\n",
    "    for n in node_ids:\n",
    "        MG.add_node(n)\n",
    "\n",
    "    for d in edge_data:\n",
    "        MG.add_edge(d['source'], d['dest'], key=d['post_id'])\n",
    "\n",
    "    G = nx.DiGraph()\n",
    "    for (u, v) in MG.edges():\n",
    "        G.add_edge(u, v, weight=len(MG[u][v]))\n",
    "    return G"
   ]
  }
 ],
 "metadata": {
  "kernelspec": {
   "display_name": "Python 3",
   "language": "python",
   "name": "python3"
  },
  "language_info": {
   "codemirror_mode": {
    "name": "ipython",
    "version": 3
   },
   "file_extension": ".py",
   "mimetype": "text/x-python",
   "name": "python",
   "nbconvert_exporter": "python",
   "pygments_lexer": "ipython3",
   "version": "3.6.0"
  }
 },
 "nbformat": 4,
 "nbformat_minor": 2
}
