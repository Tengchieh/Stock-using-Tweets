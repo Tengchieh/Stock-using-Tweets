{
 "cells": [
  {
   "cell_type": "code",
   "execution_count": 16,
   "metadata": {},
   "outputs": [],
   "source": [
    "import sys\n",
    "import os\n",
    "import json\n",
    "import string\n",
    "import pprint\n",
    "import csv\n",
    "import re\n",
    "from datetime import datetime\n",
    "import math\n",
    "        \n",
    "def countAllNumbers(start_year, start_month, end_year, end_month):\n",
    "    company_list = []\n",
    "    all_tweet = ''\n",
    "    id_list = []\n",
    "    stock_id_list = []\n",
    "    n_tweets = 0\n",
    "    n_stock_tweets = 0\n",
    "    with open('SP500.csv') as SP500csv:\n",
    "        reader = csv.DictReader(SP500csv)\n",
    "        for row in reader:\n",
    "            company_list.append(row['Symbol'])\n",
    "        \n",
    "    for year_int in range(int(start_year), int(end_year)+1):\n",
    "        if (year_int == int(end_year)):\n",
    "            last_month = int(end_month)            \n",
    "        else:\n",
    "            last_month = 12\n",
    "        if(year_int == int(start_year)):\n",
    "            first_month = int(start_month)\n",
    "        else:\n",
    "            first_month = 1\n",
    "        cur_year = str(year_int)\n",
    "        \n",
    "        for month_int in range(first_month, last_month+1):\n",
    "            if(month_int<10):\n",
    "                month = '0'+ str(month_int)\n",
    "            else:\n",
    "                month = str(month_int)\n",
    "                \n",
    "        path = os.path.join(\"Extra_Storage\", \"Archiveteam\", \"archiveteam-twitter-stream-\" + cur_year + \"-\" + month, cur_year, month)\n",
    "        for dirPath, dirNames, fileNames in os.walk(path):\n",
    "            for file in fileNames:\n",
    "                if file.endswith(\"json\"):    \n",
    "                        filepath = os.path.join(dirPath, file)\n",
    "                        with open(filepath) as json_data:\n",
    "                            data=[]\n",
    "                            all_tweet = ''\n",
    "                            for line in json_data:\n",
    "                                try:\n",
    "                                    data.append(json.loads(line))\n",
    "                                except json.JSONDecodeError:\n",
    "                                    continue                            \n",
    "                            for tweet in data:\n",
    "                                n_tweets += 1\n",
    "                                if 'user' in tweet:\n",
    "                                    if tweet['user']['id'] not in id_list:\n",
    "                                        id_list.append(tweet['user']['id'])  \n",
    "\n",
    "                                if 'text' in tweet:\n",
    "                                    tweet_lower = tweet['text'].lower()\n",
    "                                    for company in company_list:\n",
    "                                        company_tag = ' $' + company + ' '\n",
    "                                        if company_tag.lower() in tweet_lower:\n",
    "                                            n_stock_tweets += 1\n",
    "                                            if tweet['user']['id'] in stock_id_list:\n",
    "                                                break\n",
    "                                            else:\n",
    "                                                stock_id_list.append(tweet['user']['id'])           \n",
    "    print (n_tweets)\n",
    "    print (n_stock_tweets)\n",
    "    print id_list.count()\n",
    "    print stock_id_list.count()"
   ]
  },
  {
   "cell_type": "code",
   "execution_count": 17,
   "metadata": {},
   "outputs": [
    {
     "ename": "KeyboardInterrupt",
     "evalue": "",
     "output_type": "error",
     "traceback": [
      "\u001b[1;31m---------------------------------------------------------------------------\u001b[0m",
      "\u001b[1;31mKeyboardInterrupt\u001b[0m                         Traceback (most recent call last)",
      "\u001b[1;32m<ipython-input-17-c4c76567323e>\u001b[0m in \u001b[0;36m<module>\u001b[1;34m()\u001b[0m\n\u001b[1;32m----> 1\u001b[1;33m \u001b[0mcountAllNumbers\u001b[0m\u001b[1;33m(\u001b[0m\u001b[1;36m2015\u001b[0m\u001b[1;33m,\u001b[0m\u001b[1;36m11\u001b[0m\u001b[1;33m,\u001b[0m\u001b[1;36m2016\u001b[0m\u001b[1;33m,\u001b[0m\u001b[1;36m4\u001b[0m\u001b[1;33m)\u001b[0m\u001b[1;33m\u001b[0m\u001b[0m\n\u001b[0m",
      "\u001b[1;32m<ipython-input-16-af68a401c539>\u001b[0m in \u001b[0;36mcountAllNumbers\u001b[1;34m(start_year, start_month, end_year, end_month)\u001b[0m\n\u001b[0;32m     57\u001b[0m                                         \u001b[0mid_list\u001b[0m\u001b[1;33m.\u001b[0m\u001b[0mappend\u001b[0m\u001b[1;33m(\u001b[0m\u001b[0mtweet\u001b[0m\u001b[1;33m[\u001b[0m\u001b[1;34m'user'\u001b[0m\u001b[1;33m]\u001b[0m\u001b[1;33m[\u001b[0m\u001b[1;34m'id'\u001b[0m\u001b[1;33m]\u001b[0m\u001b[1;33m)\u001b[0m\u001b[1;33m\u001b[0m\u001b[0m\n\u001b[0;32m     58\u001b[0m \u001b[1;33m\u001b[0m\u001b[0m\n\u001b[1;32m---> 59\u001b[1;33m                                 \u001b[1;32mif\u001b[0m \u001b[1;34m'text'\u001b[0m \u001b[1;32min\u001b[0m \u001b[0mtweet\u001b[0m\u001b[1;33m:\u001b[0m\u001b[1;33m\u001b[0m\u001b[0m\n\u001b[0m\u001b[0;32m     60\u001b[0m                                     \u001b[0mtweet_lower\u001b[0m \u001b[1;33m=\u001b[0m \u001b[0mtweet\u001b[0m\u001b[1;33m[\u001b[0m\u001b[1;34m'text'\u001b[0m\u001b[1;33m]\u001b[0m\u001b[1;33m.\u001b[0m\u001b[0mlower\u001b[0m\u001b[1;33m(\u001b[0m\u001b[1;33m)\u001b[0m\u001b[1;33m\u001b[0m\u001b[0m\n\u001b[0;32m     61\u001b[0m                                     \u001b[1;32mfor\u001b[0m \u001b[0mcompany\u001b[0m \u001b[1;32min\u001b[0m \u001b[0mcompany_list\u001b[0m\u001b[1;33m:\u001b[0m\u001b[1;33m\u001b[0m\u001b[0m\n",
      "\u001b[1;31mKeyboardInterrupt\u001b[0m: "
     ]
    }
   ],
   "source": [
    "countAllNumbers(2015,11,2016,4)"
   ]
  },
  {
   "cell_type": "code",
   "execution_count": null,
   "metadata": {},
   "outputs": [],
   "source": []
  }
 ],
 "metadata": {
  "kernelspec": {
   "display_name": "Python 3",
   "language": "python",
   "name": "python3"
  },
  "language_info": {
   "codemirror_mode": {
    "name": "ipython",
    "version": 3
   },
   "file_extension": ".py",
   "mimetype": "text/x-python",
   "name": "python",
   "nbconvert_exporter": "python",
   "pygments_lexer": "ipython3",
   "version": "3.6.0"
  }
 },
 "nbformat": 4,
 "nbformat_minor": 2
}
